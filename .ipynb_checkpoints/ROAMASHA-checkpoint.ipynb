{
 "cells": [
  {
   "cell_type": "code",
   "execution_count": 3,
   "id": "147d7e14",
   "metadata": {},
   "outputs": [],
   "source": [
    "import pandas as pd\n",
    "import matplotlib as plt\n",
    "import seaborn as sns\n"
   ]
  },
  {
   "cell_type": "code",
   "execution_count": 4,
   "id": "ba15454c",
   "metadata": {
    "scrolled": true
   },
   "outputs": [
    {
     "name": "stderr",
     "output_type": "stream",
     "text": [
      "C:\\Users\\EWURA\\AppData\\Local\\Temp\\ipykernel_16404\\1517553456.py:2: DtypeWarning: Columns (20,21) have mixed types. Specify dtype option on import or set low_memory=False.\n",
      "  airline_data = pd.read_csv(\"C:\\\\Users\\\\EWURA\\\\Desktop\\\\PROJECT-Professor Mashouri\\\\PROJECT\\\\usa.csv\")\n"
     ]
    }
   ],
   "source": [
    "#Reading the USA Airline data \n",
    "airline_data = pd.read_csv(\"C:\\\\Users\\\\EWURA\\\\Desktop\\\\PROJECT-Professor Mashouri\\\\PROJECT\\\\usa.csv\")\n"
   ]
  },
  {
   "cell_type": "code",
   "execution_count": 5,
   "id": "049d0d05",
   "metadata": {},
   "outputs": [
    {
     "name": "stdout",
     "output_type": "stream",
     "text": [
      "<class 'pandas.core.frame.DataFrame'>\n",
      "RangeIndex: 245955 entries, 0 to 245954\n",
      "Data columns (total 23 columns):\n",
      " #   Column          Non-Null Count   Dtype  \n",
      "---  ------          --------------   -----  \n",
      " 0   tbl             245955 non-null  object \n",
      " 1   Year            245955 non-null  int64  \n",
      " 2   quarter         245955 non-null  int64  \n",
      " 3   citymarketid_1  245955 non-null  int64  \n",
      " 4   citymarketid_2  245955 non-null  int64  \n",
      " 5   city1           245955 non-null  object \n",
      " 6   city2           245955 non-null  object \n",
      " 7   airportid_1     245955 non-null  int64  \n",
      " 8   airportid_2     245955 non-null  int64  \n",
      " 9   airport_1       245955 non-null  object \n",
      " 10  airport_2       245955 non-null  object \n",
      " 11  nsmiles         245955 non-null  int64  \n",
      " 12  passengers      245955 non-null  int64  \n",
      " 13  fare            245955 non-null  float64\n",
      " 14  carrier_lg      244415 non-null  object \n",
      " 15  large_ms        244415 non-null  float64\n",
      " 16  fare_lg         244415 non-null  float64\n",
      " 17  carrier_low     244343 non-null  object \n",
      " 18  lf_ms           244343 non-null  float64\n",
      " 19  fare_low        244343 non-null  float64\n",
      " 20  Geocoded_City1  206749 non-null  object \n",
      " 21  Geocoded_City2  206749 non-null  object \n",
      " 22  tbl1apk         245955 non-null  object \n",
      "dtypes: float64(5), int64(8), object(10)\n",
      "memory usage: 43.2+ MB\n",
      "None\n",
      "       tbl  Year  quarter  citymarketid_1  citymarketid_2  \\\n",
      "0  Table1a  2021        3           30135           33195   \n",
      "1  Table1a  2021        3           30135           33195   \n",
      "2  Table1a  2021        3           30140           30194   \n",
      "3  Table1a  2021        3           30140           30194   \n",
      "4  Table1a  2021        3           30140           30466   \n",
      "\n",
      "                            city1                          city2  airportid_1  \\\n",
      "0  Allentown/Bethlehem/Easton, PA  Tampa, FL (Metropolitan Area)        10135   \n",
      "1  Allentown/Bethlehem/Easton, PA  Tampa, FL (Metropolitan Area)        10135   \n",
      "2                 Albuquerque, NM          Dallas/Fort Worth, TX        10140   \n",
      "3                 Albuquerque, NM          Dallas/Fort Worth, TX        10140   \n",
      "4                 Albuquerque, NM                    Phoenix, AZ        10140   \n",
      "\n",
      "   airportid_2 airport_1  ...    fare  carrier_lg  large_ms  fare_lg  \\\n",
      "0        14112       ABE  ...   81.43          G4    1.0000    81.43   \n",
      "1        15304       ABE  ...  208.93          DL    0.4659   219.98   \n",
      "2        11259       ABQ  ...  184.56          WN    0.9968   184.44   \n",
      "3        11298       ABQ  ...  182.64          AA    0.9774   183.09   \n",
      "4        14107       ABQ  ...  177.11          WN    0.6061   184.49   \n",
      "\n",
      "  carrier_low   lf_ms  fare_low Geocoded_City1  Geocoded_City2  \\\n",
      "0          G4  1.0000     81.43            NaN             NaN   \n",
      "1          UA  0.1193    154.11            NaN             NaN   \n",
      "2          WN  0.9968    184.44            NaN             NaN   \n",
      "3          AA  0.9774    183.09            NaN             NaN   \n",
      "4          AA  0.3939    165.77            NaN             NaN   \n",
      "\n",
      "                 tbl1apk  \n",
      "0  202131013514112ABEPIE  \n",
      "1  202131013515304ABETPA  \n",
      "2  202131014011259ABQDAL  \n",
      "3  202131014011298ABQDFW  \n",
      "4  202131014014107ABQPHX  \n",
      "\n",
      "[5 rows x 23 columns]\n"
     ]
    }
   ],
   "source": [
    "# Display basic info and the first few rows\n",
    "print(airline_data.info())  # Summary of the dataset\n",
    "print(airline_data.head())  # Display the first 5 rows to understand the data"
   ]
  },
  {
   "cell_type": "code",
   "execution_count": 6,
   "id": "6b63a3af",
   "metadata": {},
   "outputs": [
    {
     "name": "stdout",
     "output_type": "stream",
     "text": [
      "carrier_lg         1540\n",
      "large_ms           1540\n",
      "fare_lg            1540\n",
      "carrier_low        1612\n",
      "lf_ms              1612\n",
      "fare_low           1612\n",
      "Geocoded_City1    39206\n",
      "Geocoded_City2    39206\n",
      "dtype: int64\n"
     ]
    }
   ],
   "source": [
    "# Check for missing values\n",
    "missing_values =airline_data.isnull().sum()\n",
    "print(missing_values[missing_values > 0])  # Show columns with missing values\n"
   ]
  },
  {
   "cell_type": "code",
   "execution_count": 8,
   "id": "b148f61f",
   "metadata": {},
   "outputs": [
    {
     "name": "stdout",
     "output_type": "stream",
     "text": [
      "carrier_lg         1540\n",
      "large_ms           1540\n",
      "fare_lg            1540\n",
      "carrier_low        1612\n",
      "lf_ms              1612\n",
      "fare_low           1612\n",
      "Geocoded_City1    39206\n",
      "Geocoded_City2    39206\n",
      "dtype: int64\n"
     ]
    }
   ],
   "source": [
    "# Check for missing values\n",
    "missing_values = airline_data.isnull().sum()\n",
    "print(missing_values[missing_values > 0])  # Show columns with missing values"
   ]
  },
  {
   "cell_type": "code",
   "execution_count": 9,
   "id": "3acebcc0",
   "metadata": {},
   "outputs": [],
   "source": [
    "# Impute missing values in carrier-related columns\n",
    "airline_data['carrier_lg'] = airline_data['carrier_lg'].fillna('Unknown')  \n",
    "airline_data['carrier_low'] = airline_data['carrier_low'].fillna('Unknown')\n",
    "\n",
    "# Impute missing values in numeric columns with the mean\n",
    "airline_data['large_ms'] = airline_data['large_ms'].fillna(airline_data['large_ms'].mean())\n",
    "airline_data['fare_lg'] = airline_data['fare_lg'].fillna(airline_data['fare_lg'].mean())\n",
    "airline_data['lf_ms'] = airline_data['lf_ms'].fillna(airline_data['lf_ms'].mean())\n",
    "airline_data['fare_low'] = airline_data['fare_low'].fillna(airline_data['fare_low'].mean())\n"
   ]
  },
  {
   "cell_type": "code",
   "execution_count": 11,
   "id": "5a812438",
   "metadata": {},
   "outputs": [],
   "source": [
    "# Impute missing values in Geocoded_City1 and Geocoded_City2 using city1 and city2\n",
    "airline_data['Geocoded_City1'] = airline_data['Geocoded_City1'].fillna(airline_data['city1'])\n",
    "airline_data['Geocoded_City2'] = airline_data['Geocoded_City2'].fillna(airline_data['city2'])"
   ]
  },
  {
   "cell_type": "code",
   "execution_count": 12,
   "id": "17a3dc6e",
   "metadata": {},
   "outputs": [
    {
     "name": "stdout",
     "output_type": "stream",
     "text": [
      "tbl               0\n",
      "Year              0\n",
      "quarter           0\n",
      "citymarketid_1    0\n",
      "citymarketid_2    0\n",
      "city1             0\n",
      "city2             0\n",
      "airportid_1       0\n",
      "airportid_2       0\n",
      "airport_1         0\n",
      "airport_2         0\n",
      "nsmiles           0\n",
      "passengers        0\n",
      "fare              0\n",
      "carrier_lg        0\n",
      "large_ms          0\n",
      "fare_lg           0\n",
      "carrier_low       0\n",
      "lf_ms             0\n",
      "fare_low          0\n",
      "Geocoded_City1    0\n",
      "Geocoded_City2    0\n",
      "tbl1apk           0\n",
      "dtype: int64\n"
     ]
    }
   ],
   "source": [
    "# Verify remaining missing values\n",
    "print(airline_data.isnull().sum())"
   ]
  },
  {
   "cell_type": "code",
   "execution_count": 13,
   "id": "82077dd6",
   "metadata": {},
   "outputs": [
    {
     "name": "stdout",
     "output_type": "stream",
     "text": [
      "          time  Year  quarter\n",
      "124368  1993Q1  1993        1\n",
      "139797  1993Q1  1993        1\n",
      "69373   1993Q1  1993        1\n",
      "103586  1993Q1  1993        1\n",
      "139822  1993Q1  1993        1\n"
     ]
    }
   ],
   "source": [
    "# Combine `Year` and `quarter` to create a time variable\n",
    "airline_data['time'] = pd.PeriodIndex(year=airline_data['Year'], quarter=airline_data['quarter'])\n",
    "\n",
    "# Check the format and sort the dataset by time\n",
    "airline_data = airline_data.sort_values(by='time')\n",
    "print(airline_data[['time', 'Year', 'quarter']].head())\n"
   ]
  },
  {
   "cell_type": "code",
   "execution_count": 15,
   "id": "fcf560fd",
   "metadata": {},
   "outputs": [
    {
     "name": "stdout",
     "output_type": "stream",
     "text": [
      "Route-Specific Aggregated Data:\n",
      "     time airport_1 airport_2  passengers    fare  nsmiles\n",
      "0  1993Q1       ABE       CHI           1  237.11    654.0\n",
      "1  1993Q1       ABE       MDW           2  299.26    654.0\n",
      "2  1993Q1       ABE       ORD         133  275.63    654.0\n",
      "3  1993Q1       ABQ       BOS         124  281.67   1974.0\n",
      "4  1993Q1       ABQ       BUR          75   96.09    677.0\n"
     ]
    }
   ],
   "source": [
    "# Group data by time (quarter), origin, and destination airports\n",
    "route_specific_aggregation = airline_data.groupby(['time', 'airport_1', 'airport_2']).agg({\n",
    "    'passengers': 'sum',  # Total passengers for each route in each quarter\n",
    "    'fare': 'mean',       # Average fare for each route in each quarter\n",
    "    'nsmiles': 'mean'     # Average distance for each route in each quarter\n",
    "}).reset_index()\n",
    "\n",
    "# Display the aggregated data\n",
    "print(\"Route-Specific Aggregated Data:\")\n",
    "print(route_specific_aggregation.head())\n"
   ]
  },
  {
   "cell_type": "code",
   "execution_count": 19,
   "id": "c7a3d48d",
   "metadata": {},
   "outputs": [
    {
     "name": "stdout",
     "output_type": "stream",
     "text": [
      "Index(['tbl', 'airport_1', 'airport_2', 'nsmiles', 'passengers', 'fare',\n",
      "       'tbl1apk', 'time'],\n",
      "      dtype='object')\n",
      "             tbl airport_1 airport_2  nsmiles  passengers    fare  \\\n",
      "124368  Table 1a       HSV       BWI      640          59  242.48   \n",
      "139797  Table 1a       HPN       OMA     1188           7  350.19   \n",
      "69373   Table 1a       CHI       SJC     1855           1  158.46   \n",
      "103586  Table 1a       ORD       WAS      621           3  116.74   \n",
      "139822  Table 1a       DTW       OAK     2095          29  373.23   \n",
      "\n",
      "                      tbl1apk    time  \n",
      "124368  199311221710821HSVBWI  1993Q1  \n",
      "139797  199311219713871HPNOMA  1993Q1  \n",
      "69373   199311098614831CHISJC  1993Q1  \n",
      "103586  199311393015715ORDWAS  1993Q1  \n",
      "139822  199311143313796DTWOAK  1993Q1  \n"
     ]
    }
   ],
   "source": [
    "# Drop unnecessary ID columns\n",
    "columns_to_drop = [\n",
    "    'Year', 'quarter', 'city1', 'city2', 'carrier_lg', 'large_ms', 'fare_lg',\n",
    "    'carrier_low', 'lf_ms', 'fare_low', 'Geocoded_City1', 'Geocoded_City2', 'citymarketid_1','citymarketid_2','airportid_1', 'airportid_2'\n",
    "]\n",
    "\n",
    "airline_data_cleaned =airline_data.drop(columns=columns_to_drop)\n",
    "\n",
    "# Display the remaining columns\n",
    "print(airline_data_cleaned.columns)\n",
    "\n",
    "print(airline_data_cleaned.head())\n"
   ]
  },
  {
   "cell_type": "code",
   "execution_count": 20,
   "id": "6d2b9aab",
   "metadata": {},
   "outputs": [
    {
     "name": "stdout",
     "output_type": "stream",
     "text": [
      "             nsmiles     passengers           fare\n",
      "count  245955.000000  245955.000000  245955.000000\n",
      "mean     1189.812319     299.476795     218.979587\n",
      "std       703.143472     511.389486      82.372486\n",
      "min       109.000000       0.000000      50.000000\n",
      "25%       626.000000      21.000000     164.620000\n",
      "50%      1023.000000     113.000000     209.320000\n",
      "75%      1736.000000     339.000000     262.890000\n",
      "max      2724.000000    8301.000000    3377.000000\n"
     ]
    }
   ],
   "source": [
    "# Summary statistics for the cleaned dataset\n",
    "print(airline_data_cleaned.describe())\n"
   ]
  },
  {
   "cell_type": "code",
   "execution_count": 21,
   "id": "6f62646d",
   "metadata": {},
   "outputs": [
    {
     "name": "stdout",
     "output_type": "stream",
     "text": [
      "Number of rows with zero passengers: 7439\n",
      "Examples of rows with zero passengers:\n",
      "             tbl airport_1 airport_2  nsmiles  passengers    fare  \\\n",
      "103735  Table 1a       ROC       WAS      296           0  212.15   \n",
      "34953   Table 1a       CLT       CHI      599           0  152.47   \n",
      "103834  Table 1a       NYC       IAD      265           0  115.66   \n",
      "139533  Table 1a       MLB       HPN      995           0  177.00   \n",
      "166040  Table 1a       CHI       MDT      594           0  236.00   \n",
      "\n",
      "                      tbl1apk    time  \n",
      "103735  199311457615715ROCWAS  1993Q1  \n",
      "34953   199311105710986CLTCHI  1993Q1  \n",
      "103834  199311378412264NYCIAD  1993Q1  \n",
      "139533  199311336012197MLBHPN  1993Q1  \n",
      "166040  199311098613230CHIMDT  1993Q1  \n"
     ]
    }
   ],
   "source": [
    "# Count rows with zero passengers\n",
    "zero_passengers =airline_data_cleaned[airline_data_cleaned['passengers'] == 0]\n",
    "print(f\"Number of rows with zero passengers: {len(zero_passengers)}\")\n",
    "\n",
    "# Display some examples\n",
    "print(\"Examples of rows with zero passengers:\")\n",
    "print(zero_passengers.head())\n"
   ]
  },
  {
   "cell_type": "code",
   "execution_count": 23,
   "id": "c746fa28",
   "metadata": {},
   "outputs": [
    {
     "data": {
      "image/png": "[encoded data removed]",
      "text/plain": [
       "<Figure size 864x432 with 1 Axes>"
      ]
     },
     "metadata": {
      "needs_background": "light"
     },
     "output_type": "display_data"
    }
   ],
   "source": [
    "\n",
    "# Aggregate passengers over time\n",
    "time_trend =airline_data_cleaned.groupby('time')['passengers'].sum().reset_index()\n",
    "\n",
    "# Convert 'time' to datetime for plotting\n",
    "time_trend['time'] = time_trend['time'].dt.to_timestamp()\n",
    "\n",
    "# Plot passenger trends over time\n",
    "plt.figure(figsize=(12, 6))\n",
    "plt.plot(time_trend['time'], time_trend['passengers'], marker='o')\n",
    "plt.title('Total Passengers Over Time')\n",
    "plt.xlabel('Time')\n",
    "plt.ylabel('Total Passengers')\n",
    "plt.grid()\n",
    "plt.show()\n"
   ]
  },
  {
   "cell_type": "code",
   "execution_count": null,
   "id": "3fd42c35",
   "metadata": {},
   "outputs": [],
   "source": []
  },
  {
   "cell_type": "code",
   "execution_count": null,
   "id": "ebed9693",
   "metadata": {},
   "outputs": [],
   "source": []
  },
  {
   "cell_type": "code",
   "execution_count": null,
   "id": "69e5f648",
   "metadata": {},
   "outputs": [],
   "source": []
  },
  {
   "cell_type": "code",
   "execution_count": null,
   "id": "97f15c45",
   "metadata": {},
   "outputs": [],
   "source": []
  },
  {
   "cell_type": "code",
   "execution_count": null,
   "id": "48590478",
   "metadata": {},
   "outputs": [],
   "source": []
  },
  {
   "cell_type": "code",
   "execution_count": null,
   "id": "e233a33a",
   "metadata": {},
   "outputs": [],
   "source": []
  },
  {
   "cell_type": "code",
   "execution_count": null,
   "id": "68406f97",
   "metadata": {},
   "outputs": [],
   "source": []
  },
  {
   "cell_type": "code",
   "execution_count": null,
   "id": "eed9cf2d",
   "metadata": {},
   "outputs": [],
   "source": []
  }
 ],
 "metadata": {
  "kernelspec": {
   "display_name": "Python 3 (ipykernel)",
   "language": "python",
   "name": "python3"
  },
  "language_info": {
   "codemirror_mode": {
    "name": "ipython",
    "version": 3
   },
   "file_extension": ".py",
   "mimetype": "text/x-python",
   "name": "python",
   "nbconvert_exporter": "python",
   "pygments_lexer": "ipython3",
   "version": "3.9.12"
  }
 },
 "nbformat": 4,
 "nbformat_minor": 5
}
